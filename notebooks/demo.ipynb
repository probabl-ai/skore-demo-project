{
 "cells": [
  {
   "cell_type": "markdown",
   "id": "a5d9a421",
   "metadata": {},
   "source": [
    "# Welcome to the demo of Skore!\n",
    "\n",
    "Let's start by fetching the dataset. We will use the census dataset from openml.\n",
    "\n",
    "It's a binary classification problem, where the target is whether a person earns more than 50K a year.\n",
    "\n",
    "https://www.openml.org/search?type=data&sort=runs&id=1590&status=active"
   ]
  },
  {
   "cell_type": "code",
   "execution_count": null,
   "id": "313d72af",
   "metadata": {
    "lines_to_next_cell": 0
   },
   "outputs": [],
   "source": [
    "from sklearn.datasets import fetch_openml\n",
    "\n",
    "X, y = fetch_openml(\"adult\", version=2, as_frame=True, return_X_y=True)"
   ]
  },
  {
   "cell_type": "code",
   "execution_count": null,
   "id": "52e90c27",
   "metadata": {
    "lines_to_next_cell": 0
   },
   "outputs": [],
   "source": [
    "from skrub import TableReport\n",
    "\n",
    "TableReport(X)"
   ]
  },
  {
   "cell_type": "code",
   "execution_count": null,
   "id": "58f3a487",
   "metadata": {},
   "outputs": [],
   "source": [
    "y.value_counts()"
   ]
  },
  {
   "cell_type": "code",
   "execution_count": null,
   "id": "65bc22bb",
   "metadata": {},
   "outputs": [],
   "source": [
    "from sklearn.preprocessing import LabelEncoder\n",
    "\n",
    "le = LabelEncoder()\n",
    "y_encoded = le.fit_transform(y)"
   ]
  },
  {
   "cell_type": "code",
   "execution_count": null,
   "id": "bacc3141",
   "metadata": {},
   "outputs": [],
   "source": [
    "import pandas as pd\n",
    "\n",
    "pd.Series(y_encoded).value_counts()"
   ]
  },
  {
   "cell_type": "code",
   "execution_count": null,
   "id": "d45d0b65",
   "metadata": {},
   "outputs": [],
   "source": [
    "import skore\n",
    "\n",
    "X_train, X_test, y_train, y_test = skore.train_test_split(X, y_encoded, random_state=1)"
   ]
  },
  {
   "cell_type": "markdown",
   "id": "44c7dce1",
   "metadata": {},
   "source": [
    "Simpler is better.\n",
    "\n",
    "Let's do a simple baseline."
   ]
  },
  {
   "cell_type": "code",
   "execution_count": null,
   "id": "ad3845ac",
   "metadata": {
    "lines_to_next_cell": 0
   },
   "outputs": [],
   "source": [
    "from skrub import tabular_learner\n",
    "\n",
    "baseline = tabular_learner(\"classification\")\n",
    "baseline"
   ]
  },
  {
   "cell_type": "code",
   "execution_count": null,
   "id": "bf977e29",
   "metadata": {},
   "outputs": [],
   "source": [
    "from skore import EstimatorReport\n",
    "\n",
    "baseline_report = EstimatorReport(\n",
    "    baseline,\n",
    "    X_train=X_train,\n",
    "    y_train=y_train,\n",
    "    X_test=X_test,\n",
    "    y_test=y_test,\n",
    ")\n",
    "baseline_report.help()"
   ]
  },
  {
   "cell_type": "code",
   "execution_count": null,
   "id": "3d7c68b6",
   "metadata": {},
   "outputs": [],
   "source": [
    "baseline_report.metrics.report_metrics()"
   ]
  },
  {
   "cell_type": "code",
   "execution_count": null,
   "id": "5bb40769",
   "metadata": {
    "lines_to_next_cell": 0
   },
   "outputs": [],
   "source": [
    "# create or connect to project\n",
    "from skore_hub_project.project.project import Project\n",
    "\n",
    "project = Project(name=\"project demo - census\", tenant=\"Probabl\")"
   ]
  },
  {
   "cell_type": "code",
   "execution_count": null,
   "id": "1bdcc580",
   "metadata": {},
   "outputs": [],
   "source": [
    "project.put(\"baseline\", baseline_report)"
   ]
  },
  {
   "cell_type": "markdown",
   "id": "000eddf7",
   "metadata": {},
   "source": [
    "Let's go a bit further in that baseline by optimizing the parameters."
   ]
  },
  {
   "cell_type": "code",
   "execution_count": null,
   "id": "7822802d",
   "metadata": {},
   "outputs": [],
   "source": [
    "from sklearn.model_selection import GridSearchCV\n",
    "\n",
    "tuned_baseline = GridSearchCV(\n",
    "    estimator=baseline,\n",
    "    param_grid={\n",
    "        \"histgradientboostingclassifier__learning_rate\": [0.01, 0.1, 0.2],\n",
    "        \"histgradientboostingclassifier__max_depth\": [1, 3, 5],\n",
    "        \"histgradientboostingclassifier__max_leaf_nodes\": [30, 60, 90],\n",
    "    },\n",
    "    cv=5,\n",
    "    n_jobs=-1,\n",
    "    refit=True,\n",
    "    scoring=\"neg_log_loss\",\n",
    ")\n",
    "tuned_baseline"
   ]
  },
  {
   "cell_type": "code",
   "execution_count": null,
   "id": "15eafc6b",
   "metadata": {
    "lines_to_next_cell": 0
   },
   "outputs": [],
   "source": [
    "tuned_baseline_report = EstimatorReport(\n",
    "    tuned_baseline, X_train=X_train, y_train=y_train, X_test=X_test, y_test=y_test\n",
    ")"
   ]
  },
  {
   "cell_type": "code",
   "execution_count": null,
   "id": "d5b64ba9",
   "metadata": {
    "lines_to_next_cell": 0
   },
   "outputs": [],
   "source": [
    "project.put(\"tuned_baseline\", tuned_baseline_report)"
   ]
  },
  {
   "cell_type": "code",
   "execution_count": null,
   "id": "1d1798e2",
   "metadata": {
    "lines_to_next_cell": 0
   },
   "outputs": [],
   "source": [
    "tuned_baseline_report.metrics.report_metrics()"
   ]
  },
  {
   "cell_type": "code",
   "execution_count": null,
   "id": "3290db98",
   "metadata": {
    "lines_to_next_cell": 0
   },
   "outputs": [],
   "source": [
    "comp = skore.ComparisonReport(\n",
    "    {\"Baseline Model\": baseline_report, \"Tuned model\": tuned_baseline_report}\n",
    ")\n",
    "comp.help()"
   ]
  },
  {
   "cell_type": "code",
   "execution_count": null,
   "id": "d1df6fa1",
   "metadata": {},
   "outputs": [],
   "source": [
    "comp.metrics.report_metrics(pos_label=1, indicator_favorability=True)"
   ]
  },
  {
   "cell_type": "markdown",
   "id": "bd88b585",
   "metadata": {},
   "source": [
    "# DEMO PART 2 - after superior review\n",
    "\n",
    "Their request: even more simple baselines: dummy classifier, and a linear model."
   ]
  },
  {
   "cell_type": "code",
   "execution_count": null,
   "id": "4fbac9ce",
   "metadata": {
    "lines_to_next_cell": 0
   },
   "outputs": [],
   "source": [
    "from sklearn.dummy import DummyClassifier\n",
    "\n",
    "dummy = DummyClassifier(strategy=\"most_frequent\")\n",
    "dummy_report = EstimatorReport(\n",
    "    dummy,\n",
    "    X_train=X_train,\n",
    "    y_train=y_train,\n",
    "    X_test=X_test,\n",
    "    y_test=y_test,\n",
    ")\n",
    "dummy_report.help()"
   ]
  },
  {
   "cell_type": "code",
   "execution_count": null,
   "id": "aa95d4bf",
   "metadata": {
    "lines_to_next_cell": 0
   },
   "outputs": [],
   "source": [
    "dummy_report.metrics.report_metrics()"
   ]
  },
  {
   "cell_type": "code",
   "execution_count": null,
   "id": "53d05aef",
   "metadata": {
    "lines_to_next_cell": 0
   },
   "outputs": [],
   "source": [
    "project.put(\"dummy\", dummy_report)"
   ]
  },
  {
   "cell_type": "code",
   "execution_count": null,
   "id": "6b55a5e1",
   "metadata": {
    "lines_to_next_cell": 0
   },
   "outputs": [],
   "source": [
    "from sklearn.linear_model import LogisticRegression\n",
    "\n",
    "logistic_report = EstimatorReport(\n",
    "    tabular_learner(LogisticRegression()),\n",
    "    X_train=X_train,\n",
    "    y_train=y_train,\n",
    "    X_test=X_test,\n",
    "    y_test=y_test,\n",
    ")\n",
    "logistic_report.help()"
   ]
  },
  {
   "cell_type": "code",
   "execution_count": null,
   "id": "c04020ac",
   "metadata": {
    "lines_to_next_cell": 0
   },
   "outputs": [],
   "source": [
    "logistic_report.metrics.report_metrics()"
   ]
  },
  {
   "cell_type": "code",
   "execution_count": null,
   "id": "3069c395",
   "metadata": {},
   "outputs": [],
   "source": [
    "project.put(\"logistic\", logistic_report)"
   ]
  }
 ],
 "metadata": {
  "jupytext": {
   "cell_metadata_filter": "-all",
   "main_language": "python",
   "notebook_metadata_filter": "-all"
  }
 },
 "nbformat": 4,
 "nbformat_minor": 5
}
