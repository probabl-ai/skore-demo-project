{
 "cells": [
  {
   "cell_type": "code",
   "execution_count": null,
   "id": "91a5a2ad",
   "metadata": {},
   "outputs": [],
   "source": [
    "from sklearn.pipeline import make_pipeline\n",
    "from sklearn.preprocessing import FunctionTransformer, OrdinalEncoder\n",
    "from sklearn.compose import ColumnTransformer, make_column_selector"
   ]
  },
  {
   "cell_type": "markdown",
   "id": "7d1772cf",
   "metadata": {},
   "source": [
    "Fetch the dataset. We will use the census dataset from openml.\n",
    "It's a binary classification problem, where the target is whether a person earns more than 50K a year.\n",
    "https://www.openml.org/search?type=data&sort=runs&id=1590&status=active"
   ]
  },
  {
   "cell_type": "code",
   "execution_count": null,
   "id": "e71726b1",
   "metadata": {
    "lines_to_next_cell": 0
   },
   "outputs": [],
   "source": [
    "from sklearn.datasets import fetch_openml\n",
    "\n",
    "X, y = fetch_openml(\"adult\", version=2, as_frame=True, return_X_y=True)"
   ]
  },
  {
   "cell_type": "code",
   "execution_count": null,
   "id": "9ab1df60",
   "metadata": {
    "lines_to_next_cell": 0
   },
   "outputs": [],
   "source": [
    "from skrub import TableReport\n",
    "\n",
    "TableReport(X)"
   ]
  },
  {
   "cell_type": "code",
   "execution_count": null,
   "id": "ed09d194",
   "metadata": {},
   "outputs": [],
   "source": [
    "y.value_counts()"
   ]
  },
  {
   "cell_type": "code",
   "execution_count": null,
   "id": "251018b0",
   "metadata": {},
   "outputs": [],
   "source": [
    "y = 1 * (y == \">50K\")"
   ]
  },
  {
   "cell_type": "code",
   "execution_count": null,
   "id": "416bfeed",
   "metadata": {},
   "outputs": [],
   "source": [
    "import skore\n",
    "\n",
    "X_train, X_test, y_train, y_test = skore.train_test_split(X, y, random_state=1)"
   ]
  },
  {
   "cell_type": "markdown",
   "id": "9fb1141e",
   "metadata": {},
   "source": [
    "Simpler is better.\n",
    "Let's do a simple baseline."
   ]
  },
  {
   "cell_type": "code",
   "execution_count": null,
   "id": "02c6cf32",
   "metadata": {
    "lines_to_next_cell": 0
   },
   "outputs": [],
   "source": [
    "from skrub import tabular_learner\n",
    "\n",
    "baseline = tabular_learner(\"classification\")\n",
    "baseline"
   ]
  },
  {
   "cell_type": "code",
   "execution_count": null,
   "id": "cb141fbd",
   "metadata": {},
   "outputs": [],
   "source": [
    "from skore import EstimatorReport\n",
    "\n",
    "baseline_report = EstimatorReport(\n",
    "    baseline,\n",
    "    X_train=X_train,\n",
    "    y_train=y_train,\n",
    "    X_test=X_test,\n",
    "    y_test=y_test,\n",
    ")\n",
    "baseline_report.help()"
   ]
  },
  {
   "cell_type": "code",
   "execution_count": null,
   "id": "0b8081ad",
   "metadata": {},
   "outputs": [],
   "source": [
    "baseline_report.metrics.report_metrics()"
   ]
  },
  {
   "cell_type": "code",
   "execution_count": null,
   "id": "9c74d7f9",
   "metadata": {
    "lines_to_next_cell": 0
   },
   "outputs": [],
   "source": [
    "# create or connect to project\n",
    "from skore_hub_project.project.project import Project\n",
    "\n",
    "project = Project(name=\"project demo - census\", tenant=\"Probabl\")"
   ]
  },
  {
   "cell_type": "code",
   "execution_count": null,
   "id": "f2e5c7e3",
   "metadata": {},
   "outputs": [],
   "source": [
    "project.put(\"baseline\", baseline_report)"
   ]
  },
  {
   "cell_type": "markdown",
   "id": "0ceb7302",
   "metadata": {},
   "source": [
    "Let's go a bit further in that baseline by optimizing the parameters."
   ]
  },
  {
   "cell_type": "code",
   "execution_count": null,
   "id": "e3ba2c85",
   "metadata": {},
   "outputs": [],
   "source": [
    "from sklearn.model_selection import GridSearchCV\n",
    "\n",
    "tuned_baseline = GridSearchCV(\n",
    "    estimator=baseline,\n",
    "    param_grid={\n",
    "        \"histgradientboostingclassifier__learning_rate\": [0.01, 0.1, 0.2],\n",
    "        \"histgradientboostingclassifier__max_depth\": [1, 3, 5],\n",
    "        \"histgradientboostingclassifier__max_leaf_nodes\": [30, 60, 90],\n",
    "    },\n",
    "    cv=5,\n",
    "    n_jobs=-1,\n",
    "    refit=True,\n",
    "    scoring=\"neg_log_loss\",\n",
    ")\n",
    "tuned_baseline"
   ]
  },
  {
   "cell_type": "code",
   "execution_count": null,
   "id": "0bf22b65",
   "metadata": {
    "lines_to_next_cell": 0
   },
   "outputs": [],
   "source": [
    "tuned_baseline_report = EstimatorReport(\n",
    "    tuned_baseline, \n",
    "    X_train=X_train, \n",
    "    y_train=y_train, \n",
    "    X_test=X_test, \n",
    "    y_test=y_test\n",
    ")"
   ]
  },
  {
   "cell_type": "code",
   "execution_count": null,
   "id": "f3c9d9b5",
   "metadata": {
    "lines_to_next_cell": 0
   },
   "outputs": [],
   "source": [
    "project.put(\"tuned_baseline\", tuned_baseline_report)"
   ]
  },
  {
   "cell_type": "code",
   "execution_count": null,
   "id": "c0431cae",
   "metadata": {
    "lines_to_next_cell": 0
   },
   "outputs": [],
   "source": [
    "tuned_baseline_report.metrics.report_metrics()"
   ]
  },
  {
   "cell_type": "code",
   "execution_count": null,
   "id": "e3e91656",
   "metadata": {
    "lines_to_next_cell": 0
   },
   "outputs": [],
   "source": [
    "comp = skore.ComparisonReport(\n",
    "    {\n",
    "        \"Baseline Model\": baseline_report, \n",
    "        \"Tuned model\": tuned_baseline_report\n",
    "    }\n",
    ")\n",
    "comp.help()"
   ]
  },
  {
   "cell_type": "code",
   "execution_count": null,
   "id": "37482b63",
   "metadata": {},
   "outputs": [],
   "source": [
    "comp.metrics.report_metrics(pos_label=1)"
   ]
  },
  {
   "cell_type": "markdown",
   "id": "6fbb8db2",
   "metadata": {},
   "source": [
    "DEMO PART 2 - after superior review"
   ]
  }
 ],
 "metadata": {
  "jupytext": {
   "cell_metadata_filter": "-all",
   "main_language": "python",
   "notebook_metadata_filter": "-all"
  }
 },
 "nbformat": 4,
 "nbformat_minor": 5
}
