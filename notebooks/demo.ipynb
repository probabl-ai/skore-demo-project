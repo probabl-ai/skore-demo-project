{
 "cells": [
  {
   "cell_type": "markdown",
   "id": "a644e76a",
   "metadata": {},
   "source": [
    "# Welcome to the demo of Skore!\n",
    "\n",
    "Let's start by fetching the dataset. We will use the census dataset from openml.\n",
    "\n",
    "It's a binary classification problem, where the target is whether a person earns more than 50K a year.\n",
    "\n",
    "https://www.openml.org/search?type=data&sort=runs&id=1590&status=active"
   ]
  },
  {
   "cell_type": "code",
   "execution_count": null,
   "id": "37e618ba",
   "metadata": {
    "lines_to_next_cell": 0
   },
   "outputs": [],
   "source": [
    "from sklearn.datasets import fetch_openml\n",
    "\n",
    "X, y = fetch_openml(\"adult\", version=2, as_frame=True, return_X_y=True)"
   ]
  },
  {
   "cell_type": "code",
   "execution_count": null,
   "id": "598313a1",
   "metadata": {
    "lines_to_next_cell": 0
   },
   "outputs": [],
   "source": [
    "# Let's take a look at the data\n",
    "# in real life, we would do a lot more data exploration. \n",
    "X.info()"
   ]
  },
  {
   "cell_type": "code",
   "execution_count": null,
   "id": "14b1cdbc",
   "metadata": {},
   "outputs": [],
   "source": [
    "y.value_counts()"
   ]
  },
  {
   "cell_type": "code",
   "execution_count": null,
   "id": "c5ba410d",
   "metadata": {},
   "outputs": [],
   "source": [
    "from sklearn.preprocessing import LabelEncoder\n",
    "\n",
    "le = LabelEncoder()\n",
    "y_encoded = le.fit_transform(y)"
   ]
  },
  {
   "cell_type": "code",
   "execution_count": null,
   "id": "df72919a",
   "metadata": {},
   "outputs": [],
   "source": [
    "import pandas as pd\n",
    "\n",
    "pd.Series(y_encoded).value_counts()"
   ]
  },
  {
   "cell_type": "code",
   "execution_count": null,
   "id": "2679268f",
   "metadata": {},
   "outputs": [],
   "source": [
    "from sklearn.model_selection import train_test_split\n",
    "\n",
    "X_train, X_test, y_train, y_test = train_test_split(X, y_encoded, random_state=1)"
   ]
  },
  {
   "cell_type": "markdown",
   "id": "37a0b8a7",
   "metadata": {},
   "source": [
    "Simpler is better.\n",
    "\n",
    "Let's do a simple baseline."
   ]
  },
  {
   "cell_type": "code",
   "execution_count": null,
   "id": "1e1eb410",
   "metadata": {
    "lines_to_next_cell": 0
   },
   "outputs": [],
   "source": [
    "from skrub import tabular_learner\n",
    "\n",
    "baseline = tabular_learner(\"classification\")\n",
    "baseline"
   ]
  },
  {
   "cell_type": "code",
   "execution_count": null,
   "id": "a7c0b9c5",
   "metadata": {},
   "outputs": [],
   "source": [
    "from skore import EstimatorReport\n",
    "\n",
    "baseline_report = EstimatorReport(\n",
    "    baseline,\n",
    "    X_train=X_train,\n",
    "    y_train=y_train,\n",
    "    X_test=X_test,\n",
    "    y_test=y_test,\n",
    ")\n",
    "baseline_report.help()"
   ]
  },
  {
   "cell_type": "code",
   "execution_count": null,
   "id": "ba0a16d3",
   "metadata": {},
   "outputs": [],
   "source": [
    "baseline_report.metrics.report_metrics()"
   ]
  },
  {
   "cell_type": "markdown",
   "id": "f53b0265",
   "metadata": {},
   "source": [
    "Let's go a bit further in that baseline by optimizing the parameters."
   ]
  },
  {
   "cell_type": "code",
   "execution_count": null,
   "id": "3e1b8e8f",
   "metadata": {},
   "outputs": [],
   "source": [
    "from sklearn.model_selection import GridSearchCV\n",
    "\n",
    "tuned_baseline = GridSearchCV(\n",
    "    estimator=baseline,\n",
    "    param_grid={\n",
    "        \"histgradientboostingclassifier__learning_rate\": [0.01, 0.1, 0.2],\n",
    "        \"histgradientboostingclassifier__max_depth\": [1, 3, 5],\n",
    "        \"histgradientboostingclassifier__max_leaf_nodes\": [30, 60, 90],\n",
    "    },\n",
    "    cv=5,\n",
    "    n_jobs=-1,\n",
    "    refit=True,\n",
    "    scoring=\"neg_log_loss\",\n",
    ")\n",
    "tuned_baseline"
   ]
  },
  {
   "cell_type": "code",
   "execution_count": null,
   "id": "6534d35c",
   "metadata": {
    "lines_to_next_cell": 0
   },
   "outputs": [],
   "source": [
    "tuned_baseline_report = EstimatorReport(\n",
    "    tuned_baseline, X_train=X_train, y_train=y_train, X_test=X_test, y_test=y_test\n",
    ")"
   ]
  },
  {
   "cell_type": "code",
   "execution_count": null,
   "id": "bff47341",
   "metadata": {
    "lines_to_next_cell": 0
   },
   "outputs": [],
   "source": [
    "tuned_baseline_report.metrics.report_metrics()"
   ]
  },
  {
   "cell_type": "code",
   "execution_count": null,
   "id": "2aa08f1c",
   "metadata": {
    "lines_to_next_cell": 0
   },
   "outputs": [],
   "source": [
    "from skore import ComparisonReport\n",
    "\n",
    "comp = ComparisonReport(\n",
    "    {\"Baseline Model\": baseline_report, \"Tuned model\": tuned_baseline_report}\n",
    ")\n",
    "comp.help()"
   ]
  },
  {
   "cell_type": "code",
   "execution_count": null,
   "id": "578aa6b0",
   "metadata": {},
   "outputs": [],
   "source": [
    "comp.metrics.report_metrics(pos_label=1, indicator_favorability=True)"
   ]
  },
  {
   "cell_type": "code",
   "execution_count": null,
   "id": "a1c10008",
   "metadata": {
    "lines_to_next_cell": 0
   },
   "outputs": [],
   "source": [
    "# create or connect to project\n",
    "from skore import Project\n",
    "\n",
    "project = Project(\"hub://Probabl/project demo - census\")"
   ]
  },
  {
   "cell_type": "code",
   "execution_count": null,
   "id": "1ead3c86",
   "metadata": {},
   "outputs": [],
   "source": [
    "project.put(\"baseline\", baseline_report)\n",
    "project.put(\"tuned_baseline\", tuned_baseline_report)"
   ]
  },
  {
   "cell_type": "markdown",
   "id": "e4a06d6d",
   "metadata": {},
   "source": [
    "# DEMO PART 2 - after supervisor review\n",
    "\n",
    "Their request: even more simple baselines: dummy classifier, and a linear model."
   ]
  },
  {
   "cell_type": "code",
   "execution_count": null,
   "id": "d1fd6d01",
   "metadata": {
    "lines_to_next_cell": 0
   },
   "outputs": [],
   "source": [
    "from sklearn.dummy import DummyClassifier\n",
    "\n",
    "dummy = DummyClassifier(strategy=\"most_frequent\")\n",
    "dummy_report = EstimatorReport(\n",
    "    dummy,\n",
    "    X_train=X_train,\n",
    "    y_train=y_train,\n",
    "    X_test=X_test,\n",
    "    y_test=y_test,\n",
    ")\n",
    "dummy_report.help()"
   ]
  },
  {
   "cell_type": "code",
   "execution_count": null,
   "id": "3501fcc7",
   "metadata": {
    "lines_to_next_cell": 0
   },
   "outputs": [],
   "source": [
    "dummy_report.metrics.report_metrics()"
   ]
  },
  {
   "cell_type": "code",
   "execution_count": null,
   "id": "b2942dbb",
   "metadata": {
    "lines_to_next_cell": 0
   },
   "outputs": [],
   "source": [
    "project.put(\"dummy\", dummy_report)"
   ]
  },
  {
   "cell_type": "code",
   "execution_count": null,
   "id": "7591ff74",
   "metadata": {
    "lines_to_next_cell": 0
   },
   "outputs": [],
   "source": [
    "from sklearn.linear_model import LogisticRegression\n",
    "\n",
    "logistic_report = EstimatorReport(\n",
    "    tabular_learner(LogisticRegression()),\n",
    "    X_train=X_train,\n",
    "    y_train=y_train,\n",
    "    X_test=X_test,\n",
    "    y_test=y_test,\n",
    ")\n",
    "logistic_report.help()"
   ]
  },
  {
   "cell_type": "code",
   "execution_count": null,
   "id": "9dfdad9e",
   "metadata": {
    "lines_to_next_cell": 0
   },
   "outputs": [],
   "source": [
    "logistic_report.metrics.report_metrics()"
   ]
  },
  {
   "cell_type": "code",
   "execution_count": null,
   "id": "f4db9fc2",
   "metadata": {
    "lines_to_next_cell": 2
   },
   "outputs": [],
   "source": [
    "project.put(\"logistic\", logistic_report)"
   ]
  },
  {
   "cell_type": "markdown",
   "id": "ef9177de",
   "metadata": {},
   "source": [
    "# DEMO PART 3 - after business stakeholder review\n",
    "Their request: why is the feature `sex` not important, while intuitevely it should be?"
   ]
  },
  {
   "cell_type": "code",
   "execution_count": null,
   "id": "b34b005a",
   "metadata": {},
   "outputs": [],
   "source": [
    "chosen_report = project.reports.get(\n",
    "    # id\n",
    ")"
   ]
  },
  {
   "cell_type": "code",
   "execution_count": null,
   "id": "d4e2a279",
   "metadata": {},
   "outputs": [],
   "source": [
    "from skrub import TableReport\n",
    "\n",
    "TableReport(chosen_report.X_train)"
   ]
  }
 ],
 "metadata": {
  "jupytext": {
   "cell_metadata_filter": "-all",
   "main_language": "python",
   "notebook_metadata_filter": "-all"
  }
 },
 "nbformat": 4,
 "nbformat_minor": 5
}
