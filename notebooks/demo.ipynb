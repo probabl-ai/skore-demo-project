{
 "cells": [
  {
   "cell_type": "markdown",
   "id": "c1aa026f",
   "metadata": {},
   "source": [
    "# Welcome to the demo of Skore!\n",
    "\n",
    "Let's start by fetching the dataset. We will use the census dataset from openml.\n",
    "\n",
    "It's a binary classification problem, where the target is whether a person earns more than 50K a year.\n",
    "\n",
    "https://www.openml.org/search?type=data&sort=runs&id=1590&status=active"
   ]
  },
  {
   "cell_type": "code",
   "execution_count": null,
   "id": "c8432937",
   "metadata": {},
   "outputs": [],
   "source": [
    "from sklearn.datasets import fetch_openml\n",
    "\n",
    "X, y = fetch_openml(\"adult\", version=2, as_frame=True, return_X_y=True)"
   ]
  },
  {
   "cell_type": "markdown",
   "id": "0046f4e4",
   "metadata": {},
   "source": [
    "Let's take a look at the data\n",
    "in real life, we would do a lot more data exploration."
   ]
  },
  {
   "cell_type": "code",
   "execution_count": null,
   "id": "8bf3561e",
   "metadata": {},
   "outputs": [],
   "source": [
    "X.info()"
   ]
  },
  {
   "cell_type": "code",
   "execution_count": null,
   "id": "af623e13",
   "metadata": {},
   "outputs": [],
   "source": [
    "y.value_counts()"
   ]
  },
  {
   "cell_type": "code",
   "execution_count": null,
   "id": "8de6cfc3",
   "metadata": {},
   "outputs": [],
   "source": [
    "from sklearn.preprocessing import LabelEncoder\n",
    "\n",
    "le = LabelEncoder()\n",
    "y_encoded = le.fit_transform(y)"
   ]
  },
  {
   "cell_type": "code",
   "execution_count": null,
   "id": "b496d0e5",
   "metadata": {},
   "outputs": [],
   "source": [
    "import pandas as pd\n",
    "\n",
    "pd.Series(y_encoded).value_counts()"
   ]
  },
  {
   "cell_type": "code",
   "execution_count": null,
   "id": "c671200b",
   "metadata": {},
   "outputs": [],
   "source": [
    "from sklearn.model_selection import train_test_split\n",
    "\n",
    "X_train, X_test, y_train, y_test = train_test_split(X, y_encoded, random_state=1)"
   ]
  },
  {
   "cell_type": "markdown",
   "id": "03391de4",
   "metadata": {},
   "source": [
    "Simpler is better.\n",
    "\n",
    "Let's do a simple baseline."
   ]
  },
  {
   "cell_type": "code",
   "execution_count": null,
   "id": "6dc7e653",
   "metadata": {},
   "outputs": [],
   "source": [
    "from skrub import tabular_learner\n",
    "\n",
    "baseline = tabular_learner(\"classification\")\n",
    "baseline"
   ]
  },
  {
   "cell_type": "code",
   "execution_count": null,
   "id": "b3d284e9",
   "metadata": {},
   "outputs": [],
   "source": [
    "from skore import EstimatorReport\n",
    "\n",
    "baseline_report = EstimatorReport(\n",
    "    baseline,\n",
    "    X_train=X_train,\n",
    "    y_train=y_train,\n",
    "    X_test=X_test,\n",
    "    y_test=y_test,\n",
    ")\n",
    "baseline_report.help()"
   ]
  },
  {
   "cell_type": "code",
   "execution_count": null,
   "id": "6a2ae3bc",
   "metadata": {},
   "outputs": [],
   "source": [
    "baseline_report.metrics.report_metrics()"
   ]
  },
  {
   "cell_type": "markdown",
   "id": "5e9dc57c",
   "metadata": {},
   "source": [
    "Let's go a bit further in that baseline by optimizing the hyperparameters."
   ]
  },
  {
   "cell_type": "code",
   "execution_count": null,
   "id": "e00fcec0",
   "metadata": {},
   "outputs": [],
   "source": [
    "from sklearn.model_selection import GridSearchCV\n",
    "\n",
    "tuned_baseline = GridSearchCV(\n",
    "    estimator=baseline,\n",
    "    param_grid={\n",
    "        \"histgradientboostingclassifier__learning_rate\": [0.01, 0.1, 0.2],\n",
    "        \"histgradientboostingclassifier__max_depth\": [1, 3, 5],\n",
    "        \"histgradientboostingclassifier__max_leaf_nodes\": [30, 60],\n",
    "    },\n",
    "    cv=5,\n",
    "    n_jobs=-1,\n",
    "    refit=True,\n",
    "    scoring=\"neg_log_loss\",\n",
    ")\n",
    "tuned_baseline"
   ]
  },
  {
   "cell_type": "code",
   "execution_count": null,
   "id": "8249327c",
   "metadata": {
    "lines_to_next_cell": 0
   },
   "outputs": [],
   "source": [
    "tuned_baseline_report = EstimatorReport(\n",
    "    tuned_baseline, X_train=X_train, y_train=y_train, X_test=X_test, y_test=y_test\n",
    ")"
   ]
  },
  {
   "cell_type": "code",
   "execution_count": null,
   "id": "c36aa216",
   "metadata": {},
   "outputs": [],
   "source": [
    "tuned_baseline_report.metrics.report_metrics()"
   ]
  },
  {
   "cell_type": "code",
   "execution_count": null,
   "id": "47b9fe58",
   "metadata": {},
   "outputs": [],
   "source": [
    "from skore import ComparisonReport\n",
    "\n",
    "comp = ComparisonReport(\n",
    "    {\"Baseline Model\": baseline_report, \"Tuned model\": tuned_baseline_report}\n",
    ")\n",
    "comp.help()"
   ]
  },
  {
   "cell_type": "code",
   "execution_count": null,
   "id": "fb7e0341",
   "metadata": {},
   "outputs": [],
   "source": [
    "comp.metrics.report_metrics(pos_label=1, indicator_favorability=True)"
   ]
  },
  {
   "cell_type": "code",
   "execution_count": null,
   "id": "0ae19dda",
   "metadata": {},
   "outputs": [],
   "source": [
    "# init for notebook execution\n",
    "name = \"demo\"\n",
    "tenant = \"Probabl\""
   ]
  },
  {
   "cell_type": "markdown",
   "id": "72f002b2",
   "metadata": {},
   "source": [
    "cell to be executed only when running the script \n",
    "\n",
    "import argparse  \n",
    "\n",
    "Parsing arguments when used as a script\n",
    "parser = argparse.ArgumentParser()  \n",
    "parser.add_argument('--tenant', action=\"store\", dest='tenant', default=\"Probabl\")  \n",
    "parser.add_argument('--name', action=\"store\", dest='name', default=\"demo\")  \n",
    "args = parser.parse_args()  \n",
    "tenant = args.tenant  \n",
    "name = args.name  "
   ]
  },
  {
   "cell_type": "code",
   "execution_count": null,
   "id": "3ab252fa",
   "metadata": {
    "lines_to_next_cell": 0
   },
   "outputs": [],
   "source": [
    "# create or connect to project\n",
    "from skore import Project\n",
    "\n",
    "project = Project(f\"hub://{tenant}/{name}\")"
   ]
  },
  {
   "cell_type": "code",
   "execution_count": null,
   "id": "6ef5ffd9",
   "metadata": {},
   "outputs": [],
   "source": [
    "project.put(\"baseline\", baseline_report)\n",
    "project.put(\"tuned_baseline\", tuned_baseline_report)"
   ]
  },
  {
   "cell_type": "markdown",
   "id": "94ff8b2c",
   "metadata": {},
   "source": [
    "# DEMO PART 2 - after supervisor review\n",
    "\n",
    "Their request: even more simple baselines: dummy classifier, and a linear model."
   ]
  },
  {
   "cell_type": "code",
   "execution_count": null,
   "id": "227482e2",
   "metadata": {
    "lines_to_next_cell": 0
   },
   "outputs": [],
   "source": [
    "from sklearn.dummy import DummyClassifier\n",
    "\n",
    "dummy = DummyClassifier(strategy=\"prior\")\n",
    "dummy_report = EstimatorReport(\n",
    "    dummy,\n",
    "    X_train=X_train,\n",
    "    y_train=y_train,\n",
    "    X_test=X_test,\n",
    "    y_test=y_test,\n",
    ")\n",
    "dummy_report.help()"
   ]
  },
  {
   "cell_type": "code",
   "execution_count": null,
   "id": "683d4c73",
   "metadata": {},
   "outputs": [],
   "source": [
    "dummy_report.metrics.report_metrics()"
   ]
  },
  {
   "cell_type": "code",
   "execution_count": null,
   "id": "577963c2",
   "metadata": {},
   "outputs": [],
   "source": [
    "project.put(\"dummy\", dummy_report)"
   ]
  },
  {
   "cell_type": "code",
   "execution_count": null,
   "id": "ded20fd8",
   "metadata": {},
   "outputs": [],
   "source": [
    "from sklearn.linear_model import LogisticRegression\n",
    "\n",
    "logistic_report = EstimatorReport(\n",
    "    tabular_learner(LogisticRegression()),\n",
    "    X_train=X_train,\n",
    "    y_train=y_train,\n",
    "    X_test=X_test,\n",
    "    y_test=y_test,\n",
    ")\n",
    "logistic_report.help()"
   ]
  },
  {
   "cell_type": "code",
   "execution_count": null,
   "id": "a257c61a",
   "metadata": {},
   "outputs": [],
   "source": [
    "logistic_report.metrics.report_metrics()"
   ]
  },
  {
   "cell_type": "code",
   "execution_count": null,
   "id": "000b6a0a",
   "metadata": {
    "lines_to_next_cell": 2
   },
   "outputs": [],
   "source": [
    "project.put(\"logistic\", logistic_report)"
   ]
  },
  {
   "cell_type": "markdown",
   "id": "9c39a8cc",
   "metadata": {},
   "source": [
    "# DEMO PART 3 - after business stakeholder review\n",
    "Their request: why is the feature `sex` not important, while intuitevely it should be?"
   ]
  },
  {
   "cell_type": "code",
   "execution_count": null,
   "id": "ee8b1adb",
   "metadata": {},
   "outputs": [],
   "source": [
    "# It is possible to fetch a specific report by id from the project.\n",
    "# The id is available in skore-hub interface, along with other metadata. \n",
    "# chosen_report = project.reports.get(id)\n",
    "chosen_report = logistic_report"
   ]
  },
  {
   "cell_type": "code",
   "execution_count": null,
   "id": "3d512516",
   "metadata": {},
   "outputs": [],
   "source": [
    "from skrub import TableReport\n",
    "\n",
    "TableReport(chosen_report.X_train)"
   ]
  }
 ],
 "metadata": {
  "jupytext": {
   "cell_metadata_filter": "-all",
   "main_language": "python",
   "notebook_metadata_filter": "-all"
  }
 },
 "nbformat": 4,
 "nbformat_minor": 5
}
