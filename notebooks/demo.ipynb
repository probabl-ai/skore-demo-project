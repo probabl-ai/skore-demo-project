{
 "cells": [
  {
   "cell_type": "code",
   "execution_count": null,
   "id": "8c08ebd1",
   "metadata": {},
   "outputs": [],
   "source": [
    "from sklearn.pipeline import make_pipeline\n",
    "from sklearn.preprocessing import FunctionTransformer, OrdinalEncoder\n",
    "from sklearn.compose import ColumnTransformer, make_column_selector\n",
    "from sklearn.datasets import fetch_openml\n",
    "\n",
    "from skrub import tabular_learner, TableReport\n",
    "\n",
    "import skore\n",
    "from skore import EstimatorReport\n",
    "from skore_hub_project.project.project import Project"
   ]
  },
  {
   "cell_type": "markdown",
   "id": "50609782",
   "metadata": {},
   "source": [
    "Fetch the dataset. We will use the census dataset from openml.\n",
    "It's a binary classification problem, where the target is whether a person earns more than 50K a year.\n",
    "https://www.openml.org/search?type=data&sort=runs&id=1590&status=active"
   ]
  },
  {
   "cell_type": "code",
   "execution_count": null,
   "id": "03c4f925",
   "metadata": {
    "lines_to_next_cell": 0
   },
   "outputs": [],
   "source": [
    "X, y = fetch_openml(\"adult\", version=2, as_frame=True, return_X_y=True)"
   ]
  },
  {
   "cell_type": "code",
   "execution_count": null,
   "id": "8b94ba57",
   "metadata": {},
   "outputs": [],
   "source": [
    "X = X.drop(columns=[\"relationship\", \"fnlwgt\"])"
   ]
  },
  {
   "cell_type": "code",
   "execution_count": null,
   "id": "45c6ec27",
   "metadata": {
    "lines_to_next_cell": 0
   },
   "outputs": [],
   "source": [
    "TableReport(X)"
   ]
  },
  {
   "cell_type": "code",
   "execution_count": null,
   "id": "eab82b1a",
   "metadata": {},
   "outputs": [],
   "source": [
    "y.value_counts()"
   ]
  },
  {
   "cell_type": "code",
   "execution_count": null,
   "id": "74f0c815",
   "metadata": {},
   "outputs": [],
   "source": [
    "y = 1*(y == \">50K\")"
   ]
  },
  {
   "cell_type": "code",
   "execution_count": null,
   "id": "936d5c15",
   "metadata": {},
   "outputs": [],
   "source": [
    "X_train, X_test, y_train, y_test = skore.train_test_split(X, y, random_state=1)"
   ]
  },
  {
   "cell_type": "markdown",
   "id": "73dd4be9",
   "metadata": {},
   "source": [
    "Simpler is better.\n",
    "Let's do a simple baseline."
   ]
  },
  {
   "cell_type": "code",
   "execution_count": null,
   "id": "e00f521e",
   "metadata": {
    "lines_to_next_cell": 0
   },
   "outputs": [],
   "source": [
    "baseline = tabular_learner('classification')\n",
    "baseline"
   ]
  },
  {
   "cell_type": "code",
   "execution_count": null,
   "id": "f32b5d2e",
   "metadata": {},
   "outputs": [],
   "source": [
    "baseline_report = EstimatorReport(baseline, X_train = X_train, y_train=y_train, X_test = X_test, y_test = y_test)\n",
    "baseline_report.help()"
   ]
  },
  {
   "cell_type": "code",
   "execution_count": null,
   "id": "cdc1db4f",
   "metadata": {},
   "outputs": [],
   "source": [
    "baseline_report.metrics.report_metrics()"
   ]
  },
  {
   "cell_type": "code",
   "execution_count": null,
   "id": "eeb95fc6",
   "metadata": {},
   "outputs": [],
   "source": [
    "baseline_report.help()"
   ]
  },
  {
   "cell_type": "code",
   "execution_count": null,
   "id": "fa728e21",
   "metadata": {},
   "outputs": [],
   "source": [
    "fi = baseline_report.feature_importance.permutation()\n"
   ]
  },
  {
   "cell_type": "code",
   "execution_count": null,
   "id": "3ff772bc",
   "metadata": {},
   "outputs": [],
   "source": [
    "fi"
   ]
  },
  {
   "cell_type": "code",
   "execution_count": null,
   "id": "ad530ddb",
   "metadata": {},
   "outputs": [],
   "source": [
    "fi.T.plot(kind = \"box\", figsize=(10, 5), title=\"Permutation Feature Importance\", vert=False)"
   ]
  },
  {
   "cell_type": "code",
   "execution_count": null,
   "id": "ffa892ca",
   "metadata": {},
   "outputs": [],
   "source": []
  },
  {
   "cell_type": "code",
   "execution_count": null,
   "id": "71a2243f",
   "metadata": {
    "lines_to_next_cell": 0
   },
   "outputs": [],
   "source": [
    "# create project\n",
    "project = Project(name=\"project demo - census\", tenant=\"Probabl\")"
   ]
  },
  {
   "cell_type": "code",
   "execution_count": null,
   "id": "941bedc9",
   "metadata": {},
   "outputs": [],
   "source": [
    "project.put(\"baseline\", baseline_report)"
   ]
  },
  {
   "cell_type": "markdown",
   "id": "42f2261e",
   "metadata": {},
   "source": [
    "Let's go a bit further in that baseline by optimizing the parameters."
   ]
  },
  {
   "cell_type": "code",
   "execution_count": null,
   "id": "6bdc4a4c",
   "metadata": {},
   "outputs": [],
   "source": [
    "from sklearn.model_selection import GridSearchCV\n",
    "\n",
    "baseline_2 = GridSearchCV(\n",
    "                estimator = baseline,\n",
    "                param_grid = {\n",
    "                    \"histgradientboostingclassifier__learning_rate\":[0.01, 0.1, 0.2],\n",
    "                    \"histgradientboostingclassifier__max_depth\":[1, 3, 5],\n",
    "                    \"histgradientboostingclassifier__max_leaf_nodes\":[30, 60, 90],\n",
    "                },\n",
    "                cv = 5,\n",
    "                n_jobs = -1,\n",
    "                refit=True,\n",
    "                scoring=\"neg_log_loss\",\n",
    "            )\n",
    "baseline_2"
   ]
  },
  {
   "cell_type": "code",
   "execution_count": null,
   "id": "6738c575",
   "metadata": {
    "lines_to_next_cell": 0
   },
   "outputs": [],
   "source": [
    "baseline_report_2 = EstimatorReport(baseline_2, X_train = X_train, y_train=y_train, X_test = X_test, y_test = y_test)"
   ]
  },
  {
   "cell_type": "code",
   "execution_count": null,
   "id": "999edfbf",
   "metadata": {
    "lines_to_next_cell": 0
   },
   "outputs": [],
   "source": [
    "baseline_report_2.metrics.report_metrics()"
   ]
  },
  {
   "cell_type": "code",
   "execution_count": null,
   "id": "5425f22a",
   "metadata": {
    "lines_to_next_cell": 0
   },
   "outputs": [],
   "source": [
    "project.put(\"baseline_2\", baseline_report_2)"
   ]
  },
  {
   "cell_type": "code",
   "execution_count": null,
   "id": "f34a4682",
   "metadata": {
    "lines_to_next_cell": 0
   },
   "outputs": [],
   "source": [
    "comp = skore.ComparisonReport([baseline_report, baseline_report_2])\n",
    "comp.help()"
   ]
  },
  {
   "cell_type": "code",
   "execution_count": null,
   "id": "a2e998f6",
   "metadata": {},
   "outputs": [],
   "source": [
    "comp.metrics.report_metrics(pos_label = 1)"
   ]
  },
  {
   "cell_type": "markdown",
   "id": "c1050c08",
   "metadata": {},
   "source": [
    "DEMO PART 2 - after superior review"
   ]
  }
 ],
 "metadata": {
  "jupytext": {
   "cell_metadata_filter": "-all",
   "main_language": "python",
   "notebook_metadata_filter": "-all"
  },
  "kernelspec": {
   "display_name": "demo",
   "language": "python",
   "name": "python3"
  },
  "language_info": {
   "codemirror_mode": {
    "name": "ipython",
    "version": 3
   },
   "file_extension": ".py",
   "mimetype": "text/x-python",
   "name": "python",
   "nbconvert_exporter": "python",
   "pygments_lexer": "ipython3",
   "version": "3.12.9"
  }
 },
 "nbformat": 4,
 "nbformat_minor": 5
}
