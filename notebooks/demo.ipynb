{
 "cells": [
  {
   "cell_type": "markdown",
   "id": "ecce44a5",
   "metadata": {},
   "source": [
    "# Welcome to the demo of Skore!\n",
    "\n",
    "Let's start by fetching the dataset. We will use the census dataset from openml.\n",
    "\n",
    "It's a binary classification problem, where the target is whether a person earns more than 50K a year.\n",
    "\n",
    "https://www.openml.org/search?type=data&sort=runs&id=1590&status=active"
   ]
  },
  {
   "cell_type": "code",
   "execution_count": null,
   "id": "46bef780",
   "metadata": {},
   "outputs": [],
   "source": [
    "from sklearn.datasets import fetch_openml\n",
    "\n",
    "X, y = fetch_openml(\"adult\", version=2, as_frame=True, return_X_y=True)"
   ]
  },
  {
   "cell_type": "markdown",
   "id": "78f5b19d",
   "metadata": {},
   "source": [
    "Let's take a look at the data\n",
    "in real life, we would do a lot more data exploration.\n",
    "\n",
    "X.info()"
   ]
  },
  {
   "cell_type": "code",
   "execution_count": null,
   "id": "18bdbe95",
   "metadata": {},
   "outputs": [],
   "source": [
    "y.value_counts()"
   ]
  },
  {
   "cell_type": "code",
   "execution_count": null,
   "id": "6f7bb60e",
   "metadata": {},
   "outputs": [],
   "source": [
    "from sklearn.preprocessing import LabelEncoder\n",
    "\n",
    "le = LabelEncoder()\n",
    "y_encoded = le.fit_transform(y)"
   ]
  },
  {
   "cell_type": "code",
   "execution_count": null,
   "id": "28ae3e91",
   "metadata": {},
   "outputs": [],
   "source": [
    "import pandas as pd\n",
    "\n",
    "pd.Series(y_encoded).value_counts()"
   ]
  },
  {
   "cell_type": "code",
   "execution_count": null,
   "id": "cfaed303",
   "metadata": {},
   "outputs": [],
   "source": [
    "from sklearn.model_selection import train_test_split\n",
    "\n",
    "X_train, X_test, y_train, y_test = train_test_split(X, y_encoded, random_state=1)"
   ]
  },
  {
   "cell_type": "markdown",
   "id": "386dce95",
   "metadata": {},
   "source": [
    "Simpler is better.\n",
    "\n",
    "Let's do a simple baseline."
   ]
  },
  {
   "cell_type": "code",
   "execution_count": null,
   "id": "62212c7c",
   "metadata": {},
   "outputs": [],
   "source": [
    "from skrub import tabular_learner\n",
    "\n",
    "baseline = tabular_learner(\"classification\")\n",
    "baseline"
   ]
  },
  {
   "cell_type": "code",
   "execution_count": null,
   "id": "59cc46c4",
   "metadata": {},
   "outputs": [],
   "source": [
    "from skore import EstimatorReport\n",
    "\n",
    "baseline_report = EstimatorReport(\n",
    "    baseline,\n",
    "    X_train=X_train,\n",
    "    y_train=y_train,\n",
    "    X_test=X_test,\n",
    "    y_test=y_test,\n",
    ")\n",
    "baseline_report.help()"
   ]
  },
  {
   "cell_type": "code",
   "execution_count": null,
   "id": "633154a0",
   "metadata": {},
   "outputs": [],
   "source": [
    "baseline_report.metrics.report_metrics()"
   ]
  },
  {
   "cell_type": "markdown",
   "id": "4e77bd9d",
   "metadata": {},
   "source": [
    "Let's go a bit further in that baseline by optimizing the hyperparameters."
   ]
  },
  {
   "cell_type": "code",
   "execution_count": null,
   "id": "202bace0",
   "metadata": {},
   "outputs": [],
   "source": [
    "from sklearn.model_selection import GridSearchCV\n",
    "\n",
    "tuned_baseline = GridSearchCV(\n",
    "    estimator=baseline,\n",
    "    param_grid={\n",
    "        \"histgradientboostingclassifier__learning_rate\": [0.01, 0.1, 0.2],\n",
    "        \"histgradientboostingclassifier__max_depth\": [1, 3, 5],\n",
    "        \"histgradientboostingclassifier__max_leaf_nodes\": [30, 60, 90],\n",
    "    },\n",
    "    cv=5,\n",
    "    n_jobs=-1,\n",
    "    refit=True,\n",
    "    scoring=\"neg_log_loss\",\n",
    ")\n",
    "tuned_baseline"
   ]
  },
  {
   "cell_type": "code",
   "execution_count": null,
   "id": "2bdae9db",
   "metadata": {
    "lines_to_next_cell": 0
   },
   "outputs": [],
   "source": [
    "tuned_baseline_report = EstimatorReport(\n",
    "    tuned_baseline, X_train=X_train, y_train=y_train, X_test=X_test, y_test=y_test\n",
    ")"
   ]
  },
  {
   "cell_type": "code",
   "execution_count": null,
   "id": "e877ac73",
   "metadata": {},
   "outputs": [],
   "source": [
    "tuned_baseline_report.metrics.report_metrics()"
   ]
  },
  {
   "cell_type": "code",
   "execution_count": null,
   "id": "90fb32e8",
   "metadata": {},
   "outputs": [],
   "source": [
    "from skore import ComparisonReport\n",
    "\n",
    "comp = ComparisonReport(\n",
    "    {\"Baseline Model\": baseline_report, \"Tuned model\": tuned_baseline_report}\n",
    ")\n",
    "comp.help()"
   ]
  },
  {
   "cell_type": "code",
   "execution_count": null,
   "id": "0e35ad76",
   "metadata": {},
   "outputs": [],
   "source": [
    "comp.metrics.report_metrics(pos_label=1, indicator_favorability=True)"
   ]
  },
  {
   "cell_type": "code",
   "execution_count": null,
   "id": "4e2990a5",
   "metadata": {},
   "outputs": [],
   "source": [
    "# init for notebook execution\n",
    "name = \"demo\"\n",
    "tenant = \"Probabl\""
   ]
  },
  {
   "cell_type": "markdown",
   "id": "70607d55",
   "metadata": {},
   "source": [
    "cell to be executed only when running the script\n",
    "import argparse\n",
    "\n",
    "Parsing arguments when used as a script\n",
    "parser = argparse.ArgumentParser()\n",
    "parser.add_argument('--tenant', action=\"store\", dest='tenant', default=\"Probabl\")\n",
    "parser.add_argument('--name', action=\"store\", dest='name', default=\"demo\")\n",
    "args = parser.parse_args()\n",
    "tenant = args.tenant\n",
    "name = args.name"
   ]
  },
  {
   "cell_type": "code",
   "execution_count": null,
   "id": "beb40bae",
   "metadata": {
    "lines_to_next_cell": 0
   },
   "outputs": [],
   "source": [
    "# create or connect to project\n",
    "from skore import Project\n",
    "\n",
    "project = Project(f\"hub://{tenant}/{name}\")"
   ]
  },
  {
   "cell_type": "code",
   "execution_count": null,
   "id": "342a5c4e",
   "metadata": {},
   "outputs": [],
   "source": [
    "project.put(\"baseline\", baseline_report)\n",
    "project.put(\"tuned_baseline\", tuned_baseline_report)"
   ]
  },
  {
   "cell_type": "markdown",
   "id": "7499cb27",
   "metadata": {},
   "source": [
    "# DEMO PART 2 - after supervisor review\n",
    "\n",
    "Their request: even more simple baselines: dummy classifier, and a linear model."
   ]
  },
  {
   "cell_type": "code",
   "execution_count": null,
   "id": "7e7f1beb",
   "metadata": {
    "lines_to_next_cell": 0
   },
   "outputs": [],
   "source": [
    "from sklearn.dummy import DummyClassifier\n",
    "\n",
    "dummy = DummyClassifier(strategy=\"prior\")\n",
    "dummy_report = EstimatorReport(\n",
    "    dummy,\n",
    "    X_train=X_train,\n",
    "    y_train=y_train,\n",
    "    X_test=X_test,\n",
    "    y_test=y_test,\n",
    ")\n",
    "dummy_report.help()"
   ]
  },
  {
   "cell_type": "code",
   "execution_count": null,
   "id": "6c3322ea",
   "metadata": {},
   "outputs": [],
   "source": [
    "dummy_report.metrics.report_metrics()"
   ]
  },
  {
   "cell_type": "code",
   "execution_count": null,
   "id": "74229627",
   "metadata": {},
   "outputs": [],
   "source": [
    "project.put(\"dummy\", dummy_report)"
   ]
  },
  {
   "cell_type": "code",
   "execution_count": null,
   "id": "65e03ce7",
   "metadata": {},
   "outputs": [],
   "source": [
    "from sklearn.linear_model import LogisticRegression\n",
    "\n",
    "logistic_report = EstimatorReport(\n",
    "    tabular_learner(LogisticRegression()),\n",
    "    X_train=X_train,\n",
    "    y_train=y_train,\n",
    "    X_test=X_test,\n",
    "    y_test=y_test,\n",
    ")\n",
    "logistic_report.help()"
   ]
  },
  {
   "cell_type": "code",
   "execution_count": null,
   "id": "c73917f1",
   "metadata": {},
   "outputs": [],
   "source": [
    "logistic_report.metrics.report_metrics()"
   ]
  },
  {
   "cell_type": "code",
   "execution_count": null,
   "id": "839fd36c",
   "metadata": {
    "lines_to_next_cell": 2
   },
   "outputs": [],
   "source": [
    "project.put(\"logistic\", logistic_report)"
   ]
  },
  {
   "cell_type": "markdown",
   "id": "eb916957",
   "metadata": {},
   "source": [
    "# DEMO PART 3 - after business stakeholder review\n",
    "Their request: why is the feature `sex` not important, while intuitevely it should be?"
   ]
  },
  {
   "cell_type": "code",
   "execution_count": null,
   "id": "fb2df6d3",
   "metadata": {},
   "outputs": [],
   "source": [
    "# It is possible to fetch a specific report by id from the project.\n",
    "# The id is available in skore-hub interface, along with other metadata. \n",
    "# chosen_report = project.reports.get(id)\n",
    "chosen_report = logistic_report"
   ]
  },
  {
   "cell_type": "code",
   "execution_count": null,
   "id": "f82c174f",
   "metadata": {},
   "outputs": [],
   "source": [
    "from skrub import TableReport\n",
    "\n",
    "TableReport(chosen_report.X_train)"
   ]
  }
 ],
 "metadata": {
  "jupytext": {
   "cell_metadata_filter": "-all",
   "main_language": "python",
   "notebook_metadata_filter": "-all"
  }
 },
 "nbformat": 4,
 "nbformat_minor": 5
}
